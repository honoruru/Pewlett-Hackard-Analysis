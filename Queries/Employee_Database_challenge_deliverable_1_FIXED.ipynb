{
 "cells": [
  {
   "cell_type": "code",
   "execution_count": null,
   "id": "c06595c8",
   "metadata": {},
   "outputs": [],
   "source": [
    "--Create retirement_titles\n",
    "SELECT e.emp_no,\n",
    "\t   e.first_name,\n",
    "\t   e.last_name,\n",
    "\t   t.title,\n",
    "\t   t.from_date,\n",
    "\t   t.to_date\n",
    "INTO retirement_titles_rev\n",
    "FROM employees AS e\n",
    "INNER JOIN titles AS t\n",
    "\tON (e.emp_no = t.emp_no)\n",
    "JOIN dept_emp AS de\n",
    "\tON (e.emp_no = de.emp_no) \t\n",
    "WHERE (e.birth_date BETWEEN '1952-01-01' AND '1955-12-31')\n",
    "\tAND (de.to_date = '9999-01-01')\n",
    "ORDER BY e.emp_no ASC;\n",
    "\n",
    "SELECT * FROM retiring_titles_rev\n",
    "\n",
    "-- Use Distinct with Orderby to remove duplicate rows\n",
    "SELECT DISTINCT ON (emp_no) emp_no,\n",
    "\tfirst_name,\n",
    "\tlast_name,\n",
    "\ttitle\n",
    "INTO unique_titles_rev\n",
    "FROM retirement_titles_rev\n",
    "ORDER BY emp_no, to_date DESC;\n",
    "\n",
    "--Retiring Titles\n",
    "SELECT COUNT(title) AS \"count\", title\n",
    "INTO retiring_titles_rev\n",
    "FROM unique_titles_rev\n",
    "GROUP BY title\n",
    "ORDER BY \"count\" DESC;"
   ]
  }
 ],
 "metadata": {
  "kernelspec": {
   "display_name": "Python 3",
   "language": "python",
   "name": "python3"
  },
  "language_info": {
   "codemirror_mode": {
    "name": "ipython",
    "version": 3
   },
   "file_extension": ".py",
   "mimetype": "text/x-python",
   "name": "python",
   "nbconvert_exporter": "python",
   "pygments_lexer": "ipython3",
   "version": "3.8.8"
  }
 },
 "nbformat": 4,
 "nbformat_minor": 5
}
