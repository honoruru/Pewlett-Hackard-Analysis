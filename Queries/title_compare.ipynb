{
 "cells": [
  {
   "cell_type": "code",
   "execution_count": null,
   "id": "8753cf94",
   "metadata": {},
   "outputs": [],
   "source": [
    "-- title_compare\n",
    "SELECT utd.emp_no,\n",
    "\t   utd.first_name,\n",
    "\t   utd.last_name,\n",
    "\t   utd.title AS total_title,\n",
    "\t   utr.title AS ret_title,\n",
    "\t   utd.dept_name AS total_dept,\n",
    "\t   utr.dept_name AS ret_dept\n",
    "INTO title_compare\n",
    "FROM unique_titles_dept AS utd\n",
    "LEFT JOIN unique_titles_rev2 AS utr\n",
    "\tON (utd.emp_no = utr.emp_no)\n",
    "ORDER BY utd.emp_no ASC;"
   ]
  }
 ],
 "metadata": {
  "kernelspec": {
   "display_name": "Python 3",
   "language": "python",
   "name": "python3"
  },
  "language_info": {
   "codemirror_mode": {
    "name": "ipython",
    "version": 3
   },
   "file_extension": ".py",
   "mimetype": "text/x-python",
   "name": "python",
   "nbconvert_exporter": "python",
   "pygments_lexer": "ipython3",
   "version": "3.8.8"
  }
 },
 "nbformat": 4,
 "nbformat_minor": 5
}
