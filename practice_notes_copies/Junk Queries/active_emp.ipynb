{
 "cells": [
  {
   "cell_type": "code",
   "execution_count": null,
   "id": "0a1758c4",
   "metadata": {},
   "outputs": [],
   "source": [
    "--List active employees\n",
    "SELECT e.emp_no,\n",
    "    e.first_name,\n",
    "\te.last_name,\n",
    "    e.gender,\n",
    "    de.to_date\n",
    "INTO active_emp\n",
    "FROM employees as e\n",
    "INNER JOIN dept_emp as de\n",
    "ON (e.emp_no = de.emp_no)\n",
    "WHERE (de.to_date = '9999-01-01');\t\n",
    "\n",
    "--Verify active employee count\n",
    "SELECT COUNT (e.emp_no), de.dept_no\n",
    "INTO active_emp_count\n",
    "FROM employees as e\n",
    "INNER JOIN dept_emp as de\n",
    "ON (e.emp_no = de.emp_no)\n",
    "WHERE (de.to_date = '9999-01-01')\t\n",
    "GROUP BY de.dept_no\n",
    "ORDER BY de.dept_no;\n"
   ]
  }
 ],
 "metadata": {
  "kernelspec": {
   "display_name": "Python 3",
   "language": "python",
   "name": "python3"
  },
  "language_info": {
   "codemirror_mode": {
    "name": "ipython",
    "version": 3
   },
   "file_extension": ".py",
   "mimetype": "text/x-python",
   "name": "python",
   "nbconvert_exporter": "python",
   "pygments_lexer": "ipython3",
   "version": "3.8.8"
  }
 },
 "nbformat": 4,
 "nbformat_minor": 5
}
