{
 "cells": [
  {
   "cell_type": "code",
   "execution_count": null,
   "id": "ae9bb9a0",
   "metadata": {},
   "outputs": [],
   "source": [
    "--Create all titles by department\n",
    "SELECT e.emp_no,\n",
    "\t   e.first_name,\n",
    "\t   e.last_name,\n",
    "\t   t.title,\n",
    "\t   t.from_date,\n",
    "\t   t.to_date,\n",
    " \t   dp.dept_name\n",
    "INTO current_titles_dept\n",
    "FROM employees AS e\n",
    "INNER JOIN titles AS t\n",
    "\tON (e.emp_no = t.emp_no)\n",
    "JOIN dept_emp AS de\n",
    "\tON (e.emp_no = de.emp_no)\n",
    "JOIN departments AS dp\n",
    "  \tON (de.dept_no = dp.dept_no)\n",
    "-- WHERE (e.birth_date BETWEEN '1952-01-01' AND '1955-12-31')\n",
    "\tWHERE (de.to_date = '9999-01-01')\n",
    "ORDER BY e.emp_no ASC;\n",
    "\n",
    "SELECT * FROM retirement_titles_dept\n",
    "\n",
    "-- Use Dictinct with Orderby to remove duplicate rows\n",
    "SELECT DISTINCT ON (emp_no) emp_no,\n",
    "\tfirst_name,\n",
    "\tlast_name,\n",
    "\ttitle,\n",
    "\tdept_name\n",
    "INTO unique_titles_dept\n",
    "FROM current_titles_dept\n",
    "ORDER BY emp_no, to_date DESC;\n",
    "\n",
    "--All Titles\n",
    "SELECT COUNT(title) AS \"count\", title, dept_name\n",
    "INTO all_titles_dept\n",
    "FROM unique_titles_dept\n",
    "GROUP BY title, dept_name\n",
    "ORDER BY \"count\" DESC;"
   ]
  }
 ],
 "metadata": {
  "kernelspec": {
   "display_name": "Python 3",
   "language": "python",
   "name": "python3"
  },
  "language_info": {
   "codemirror_mode": {
    "name": "ipython",
    "version": 3
   },
   "file_extension": ".py",
   "mimetype": "text/x-python",
   "name": "python",
   "nbconvert_exporter": "python",
   "pygments_lexer": "ipython3",
   "version": "3.8.8"
  }
 },
 "nbformat": 4,
 "nbformat_minor": 5
}
