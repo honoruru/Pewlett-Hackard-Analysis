{
 "cells": [
  {
   "cell_type": "markdown",
   "id": "ec3891d1",
   "metadata": {},
   "source": [
    "--7.3.6 Tailored Lists - Employee numbers, Employee first name Employee last name,Employee department name\n",
    "\n",
    "SELECT e.emp_no,\n",
    "\te.first_name,\n",
    "\te.last_name,\n",
    "\td.dept_name\n",
    "INTO sales_list\n",
    "FROM employees AS e\n",
    "INNER JOIN dept_emp AS de\n",
    "ON e.emp_no = de.emp_no\n",
    "INNER JOIN departments AS d\n",
    "ON de.dept_no = d.dept_no;\n",
    "\n",
    "SELECT * FROM sales_list\n",
    "\n",
    "--list of employees in both the Sales and Development departments\n",
    "SELECT e.emp_no,\n",
    "\te.first_name,\n",
    "\te.last_name,\n",
    "\td.dept_name\n",
    "INTO sales_list2\n",
    "FROM employees AS e\n",
    "INNER JOIN dept_emp AS de\n",
    "ON e.emp_no = de.emp_no\n",
    "INNER JOIN departments AS d\n",
    "ON de.dept_no = d.dept_no\n",
    "\tWHERE d.dept_no IN ('d007','d005');\n",
    "\t\n",
    "SELECT * FROM sales_list2\t\n",
    "DROP TABLE sales_list2\t"
   ]
  }
 ],
 "metadata": {
  "kernelspec": {
   "display_name": "Python 3",
   "language": "python",
   "name": "python3"
  },
  "language_info": {
   "codemirror_mode": {
    "name": "ipython",
    "version": 3
   },
   "file_extension": ".py",
   "mimetype": "text/x-python",
   "name": "python",
   "nbconvert_exporter": "python",
   "pygments_lexer": "ipython3",
   "version": "3.8.8"
  }
 },
 "nbformat": 4,
 "nbformat_minor": 5
}
